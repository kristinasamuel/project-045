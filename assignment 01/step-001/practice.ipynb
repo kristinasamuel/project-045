{
  "nbformat": 4,
  "nbformat_minor": 0,
  "metadata": {
    "colab": {
      "provenance": [],
      "authorship_tag": "ABX9TyPhSyPiseDAvmGk5qUsXfqI",
      "include_colab_link": true
    },
    "kernelspec": {
      "name": "python3",
      "display_name": "Python 3"
    },
    "language_info": {
      "name": "python"
    }
  },
  "cells": [
    {
      "cell_type": "markdown",
      "metadata": {
        "id": "view-in-github",
        "colab_type": "text"
      },
      "source": [
        "<a href=\"https://colab.research.google.com/github/kristinasamuel/project-045/blob/main/assignment%2001/step-001/practice.ipynb\" target=\"_parent\"><img src=\"https://colab.research.google.com/assets/colab-badge.svg\" alt=\"Open In Colab\"/></a>"
      ]
    },
    {
      "cell_type": "code",
      "execution_count": null,
      "metadata": {
        "id": "77QH2sqJkaR-"
      },
      "outputs": [],
      "source": []
    },
    {
      "cell_type": "markdown",
      "source": [
        "# **new practice of work**"
      ],
      "metadata": {
        "id": "l3dlWJu5keN-"
      }
    },
    {
      "cell_type": "code",
      "source": [
        "print(\"my name is kristina\")"
      ],
      "metadata": {
        "colab": {
          "base_uri": "https://localhost:8080/"
        },
        "id": "RwQFc2ZTkmzV",
        "outputId": "4ffdc62c-d6ab-40f5-aa63-8c280ec33506"
      },
      "execution_count": null,
      "outputs": [
        {
          "output_type": "stream",
          "name": "stdout",
          "text": [
            "my name is kristina\n"
          ]
        }
      ]
    }
  ]
}